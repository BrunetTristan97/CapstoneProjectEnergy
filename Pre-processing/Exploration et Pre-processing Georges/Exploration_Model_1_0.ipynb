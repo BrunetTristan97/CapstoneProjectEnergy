{
  "cells": [
    {
      "cell_type": "code",
      "execution_count": null,
      "metadata": {},
      "outputs": [],
      "source": [
        "# !pip install xgboost"
      ]
    },
    {
      "cell_type": "code",
      "execution_count": null,
      "metadata": {
        "id": "AJxX19_T29Lh"
      },
      "outputs": [],
      "source": [
        "import pandas as pd\n",
        "import numpy as np\n",
        "import seaborn as sns\n",
        "import matplotlib.pyplot as plt\n",
        "import tensorflow as tf\n",
        "import pickle\n",
        "import joblib\n",
        "import utils # contient toutes les fonctions crees pour le projet..\n",
        "\n",
        "\n",
        "from xgboost import XGBClassifier\n",
        "from sklearn.preprocessing import StandardScaler\n",
        "from sklearn.metrics import accuracy_score, f1_score"
      ]
    },
    {
      "attachments": {},
      "cell_type": "markdown",
      "metadata": {
        "id": "awxDKgBT3U3z"
      },
      "source": [
        "### Importation des donnees\n"
      ]
    },
    {
      "cell_type": "code",
      "execution_count": null,
      "metadata": {
        "id": "K75IyuXy3jYe"
      },
      "outputs": [],
      "source": [
        "# ROOT = \"/content/drive/Shareddrives/Canvas ECo energy/Eco Energy Energy Live Capstone/datasets/\" # chemin sur colab\n",
        "ROOT = \"C:/Users/georg/OneDrive/Documents/GitHub/CapstoneProjectEnergy/Dataset/\" # chemin en local\n",
        "\n",
        "\n",
        "dred = \"DRED.csv\"\n",
        "qud = \"QUD.csv\"\n",
        "sim = \"SimDataset.csv\"\n",
        "\n",
        "\n",
        "rw_dred = pd.read_csv(ROOT+dred, names= [\"occupancy\", \"P\", \"Pn\", \"P+t1\", \"P-t1\",\"class_state\"], header=None)\n",
        "rw_qud = pd.read_csv(ROOT+qud, names= [\"occupancy\", \"P\", \"Pn\", \"P+t1\", \"P-t1\",\"class_state\"], header=None)\n",
        "rw_sim = pd.read_csv(ROOT+sim, names= ['Occupancy' , 'Appliance_ID' , 'Sin(time)' , 'Cos(time)' , 'Sin(day)' , 'Cos(day)' , 'Power_consumption_P(t)' , 'Normalized-power-consumption ' , 'P(t)-P(t+1)' , 'P(t)-P(t-1)' , 'Micro-moment_class'], header=None)\n",
        "\n"
      ]
    },
    {
      "cell_type": "code",
      "execution_count": null,
      "metadata": {
        "colab": {
          "base_uri": "https://localhost:8080/",
          "height": 0
        },
        "id": "YJ697uxRZWpD",
        "outputId": "cf54c6ca-6549-452b-e52c-a0f0f59d5254"
      },
      "outputs": [],
      "source": [
        "print(rw_dred.shape)\n",
        "rw_dred.head()"
      ]
    },
    {
      "cell_type": "code",
      "execution_count": null,
      "metadata": {
        "colab": {
          "base_uri": "https://localhost:8080/",
          "height": 0
        },
        "id": "aqFCTs47ZaBI",
        "outputId": "1b7a9cc3-31af-4567-afd9-af1e5fed2ab7"
      },
      "outputs": [],
      "source": [
        "print(rw_qud.shape)\n",
        "rw_qud.head()"
      ]
    },
    {
      "attachments": {},
      "cell_type": "markdown",
      "metadata": {
        "id": "-Cf57NzQxOvj"
      },
      "source": [
        "## Machine Learning"
      ]
    },
    {
      "cell_type": "code",
      "execution_count": null,
      "metadata": {
        "id": "_vemcdj0ggao"
      },
      "outputs": [],
      "source": [
        "# !pip install xgboost"
      ]
    },
    {
      "attachments": {},
      "cell_type": "markdown",
      "metadata": {
        "id": "pHIgEIuQGazw"
      },
      "source": [
        "#### Normalisation avec le coefficient de variance pour le ML"
      ]
    },
    {
      "attachments": {},
      "cell_type": "markdown",
      "metadata": {
        "id": "SIjZ3zw54f8B"
      },
      "source": [
        "Qud"
      ]
    },
    {
      "cell_type": "code",
      "execution_count": null,
      "metadata": {
        "colab": {
          "base_uri": "https://localhost:8080/",
          "height": 1000
        },
        "id": "Elyy0n6H3nsx",
        "outputId": "48662c42-0770-4e7c-f9c6-d02767249b2b"
      },
      "outputs": [],
      "source": [
        "rw_qud.shape , rw_qud.shape[0]-3\n",
        "input_qud, output_qud = utils.slide_window(dataset=rw_qud ,window_size=3)\n",
        "input_qud = input_qud.squeeze()\n",
        "\n",
        "new_qud_dataset = np.concatenate((input_qud, np.expand_dims(output_qud, axis=-1)) , axis = 1)\n",
        "\n",
        "df_qud = pd.DataFrame(new_qud_dataset, columns = ['oc1','oc2','oc3','p1','p2','p3','pt01','pt02','pt03' ,'pt11','pt22','pt33' ,'cl1','cl2','cl3', 'out' ] )\n",
        "\n",
        "## normalisons avec le coefficient de variance\n",
        "\n",
        "df_qud['mean'] = (df_qud['p1'] + df_qud['p2'] + df_qud['p3'] ) / 3 # moyenne des valeurs power pour une window\n",
        "df_qud['std_window'] = df_qud[['p1' , 'p2' , 'p3']].std(axis=1) # std de P1, P2, P3\n",
        "df_qud['norm_window'] = ( df_qud['std_window']/(df_qud['mean'] + 1e-7) ) * ((df_qud[['p1' , 'p2' , 'p3']].max(axis=1) - df_qud[['p1' , 'p2' , 'p3']].min(axis=1)) /1000) # normalization de P1, P2, P3 \n",
        "\n",
        "## visualisation\n",
        "\n",
        "debut = 0\n",
        "fin   = -1\n",
        "\n",
        "plt.plot(df_qud['p2'][debut:fin])\n",
        "plt.xlabel('Timestep')\n",
        "plt.ylabel(\"Puissance originale\")\n",
        "plt.title(\"Power dans chaque fenetre\" , {'fontsize': 9}  )\n",
        "plt.show()\n",
        "print()\n",
        "\n",
        "plt.plot(df_qud['norm_window'][debut:fin])\n",
        "plt.xlabel('Timestep')\n",
        "plt.ylabel(\"Power normalisee\")\n",
        "plt.title(\"Power normalisee (w) dans chaque fenetre\" , {'fontsize': 9}  )\n",
        "plt.show()\n",
        "print()\n",
        "\n",
        "\n",
        "df_qud.head()"
      ]
    },
    {
      "cell_type": "code",
      "execution_count": null,
      "metadata": {
        "colab": {
          "base_uri": "https://localhost:8080/",
          "height": 300
        },
        "id": "0xYJM5Bn9K0p",
        "outputId": "30ffbfd0-9511-454d-d3f4-65903c651ed4"
      },
      "outputs": [],
      "source": [
        "# quelques statistiques\n",
        "\n",
        "df_qud.describe()"
      ]
    },
    {
      "cell_type": "code",
      "execution_count": null,
      "metadata": {
        "colab": {
          "base_uri": "https://localhost:8080/",
          "height": 1000
        },
        "id": "o-JzFgPI9S_B",
        "outputId": "e79fdba8-9e80-4241-cc08-220d25e2192f"
      },
      "outputs": [],
      "source": [
        "qud_corr = df_qud.corr()\n",
        "sns.heatmap(qud_corr)\n",
        "qud_corr"
      ]
    },
    {
      "attachments": {},
      "cell_type": "markdown",
      "metadata": {
        "id": "hzbj-kEY8xp3"
      },
      "source": [
        "Dred"
      ]
    },
    {
      "cell_type": "code",
      "execution_count": null,
      "metadata": {
        "colab": {
          "base_uri": "https://localhost:8080/",
          "height": 1000
        },
        "id": "flLv1_pu8zps",
        "outputId": "38224758-99e1-4fbb-ea25-3c35b3fa90aa"
      },
      "outputs": [],
      "source": [
        "rw_dred.shape , rw_dred.shape[0]-3\n",
        "input_dred, output_dred = utils.slide_window(dataset=rw_dred ,window_size=3)\n",
        "input_dred = input_dred.squeeze()\n",
        "\n",
        "new_dred_dataset = np.concatenate((input_dred, np.expand_dims(output_dred, axis=-1)) , axis = 1)\n",
        "\n",
        "df_dred = pd.DataFrame(new_dred_dataset, columns = ['oc1','oc2','oc3','p1','p2','p3','pt01','pt02','pt03' ,'pt11','pt22','pt33' ,'cl1','cl2','cl3', 'out' ] )\n",
        "\n",
        "## normalisaons avec le coefficient de variance\n",
        "\n",
        "df_dred['mean'] = (df_dred['p1'] + df_dred['p2'] + df_dred['p3'] ) / 3 # moyenne des valeurs power pour une window\n",
        "df_dred['std_window'] = df_dred[['p1' , 'p2' , 'p3']].std(axis=1) # std de P1, P2, P3\n",
        "df_dred['norm_window'] = ( df_dred['std_window']/(df_dred['mean'] + 1e-7 ) ) * ((df_dred[['p1' , 'p2' , 'p3']].max(axis=1) - df_dred[['p1' , 'p2' , 'p3']].min(axis=1)) /1000) # normalization de P1, P2, P3 \n",
        "\n",
        "## visualisation\n",
        "\n",
        "debut = 0\n",
        "fin   = -1\n",
        "\n",
        "plt.plot(df_dred['p2'][debut:fin])\n",
        "plt.xlabel('Timestep')\n",
        "plt.ylabel(\"Power normalisee\")\n",
        "plt.title(\"Power dans chaque fenetre\" , {'fontsize': 9}  )\n",
        "plt.show()\n",
        "print()\n",
        "\n",
        "plt.plot(df_dred['norm_window'][debut:fin])\n",
        "plt.xlabel('Timestep')\n",
        "plt.ylabel(\"Power normalisee\")\n",
        "plt.title(\"Power normalisee (w) dans chaque fenetre\" , {'fontsize': 9}  )\n",
        "plt.show()\n",
        "print()\n",
        "\n",
        "\n",
        "df_dred.head(5)"
      ]
    },
    {
      "cell_type": "code",
      "execution_count": null,
      "metadata": {
        "colab": {
          "base_uri": "https://localhost:8080/",
          "height": 300
        },
        "id": "i1wU1RR6_coK",
        "outputId": "1dcc05f0-7430-4efc-d6e0-a34e0ae701dd"
      },
      "outputs": [],
      "source": [
        "# quelques statistiques\n",
        "\n",
        "df_dred.describe()"
      ]
    },
    {
      "cell_type": "code",
      "execution_count": null,
      "metadata": {
        "colab": {
          "base_uri": "https://localhost:8080/",
          "height": 924
        },
        "id": "lA-xFa-v_coL",
        "outputId": "2a33db8b-7825-4929-d0a3-12f0ac06cb2c"
      },
      "outputs": [],
      "source": [
        "dred_corr = df_dred.corr()\n",
        "sns.heatmap(dred_corr)\n",
        "df_dred.head(20)"
      ]
    },
    {
      "attachments": {},
      "cell_type": "markdown",
      "metadata": {
        "id": "LpGVJT8o167_"
      },
      "source": [
        "Models"
      ]
    },
    {
      "cell_type": "code",
      "execution_count": null,
      "metadata": {
        "id": "NYaZcv-m1933"
      },
      "outputs": [],
      "source": [
        "# Separation en train et test\n",
        "\n",
        "# dred\n",
        "dred_feature = df_dred.iloc[ : , 1:-3 ].drop( 'out' , axis = 1 )\n",
        "dred_target  = df_dred.iloc[ : , 1:-3 ].out\n",
        "\n",
        "dred_features_train = dred_feature.iloc[ : int(dred_feature.shape[0]*0.8 ) , : ]\n",
        "dred_features_test  = dred_feature.iloc[ int(dred_feature.shape[0]*0.8 ) : , : ]  \n",
        "\n",
        "dred_target_train = dred_target.iloc[ : int(dred_feature.shape[0]*0.8 ) ]\n",
        "dred_target_test  = dred_target.iloc[ int(dred_feature.shape[0]*0.8 ) : ]  \n",
        "\n",
        "\n",
        "\n",
        "\n",
        "# qud\n",
        "qud_feature = df_qud.iloc[ : , 1:-3 ].drop( 'out' , axis = 1 )\n",
        "qud_target  = df_qud.iloc[ : , 1:-3 ].out\n",
        "\n",
        "qud_features_train = qud_feature.iloc[ : int(qud_feature.shape[0]*0.8 ) , : ]\n",
        "qud_features_test  = qud_feature.iloc[ int(qud_feature.shape[0]*0.8 ) : , : ]  \n",
        "\n",
        "qud_target_train = qud_target.iloc[ : int(qud_feature.shape[0]*0.8 ) ]\n",
        "qud_target_test  = qud_target.iloc[ int(qud_feature.shape[0]*0.8 ) : ]  \n",
        "\n"
      ]
    },
    {
      "cell_type": "code",
      "execution_count": null,
      "metadata": {
        "colab": {
          "base_uri": "https://localhost:8080/"
        },
        "id": "MIkIJkGr17tZ",
        "outputId": "31e43815-dc5f-4395-f6fe-f725f9fe5ce8"
      },
      "outputs": [],
      "source": [
        "# qud\n",
        "score_qud_cov = {}\n",
        "\n",
        "xgb_baseline_qud = XGBClassifier()\n",
        "\n",
        "\n",
        "xgb_baseline_qud.fit(qud_features_train, qud_target_train)\n",
        "yhat = xgb_baseline_qud.predict(qud_features_test)\n",
        "\n",
        "score_qud_cov['micro'] =  f1_score(qud_target_test, yhat, average = None)\n",
        "print(f\"Les scores de chaque classe: \\n{score_qud_cov['micro']}\")\n",
        "\n",
        "print()\n",
        "score_qud_cov['macro'] = f1_score(qud_target_test, yhat, average = \"macro\")\n",
        "print(f\"Les scores de ENSEMBLE classe: \\n{score_qud_cov['macro']}\")"
      ]
    },
    {
      "cell_type": "code",
      "execution_count": null,
      "metadata": {
        "colab": {
          "base_uri": "https://localhost:8080/"
        },
        "id": "NihUJ8_P2aQL",
        "outputId": "b5b6b4c6-e70e-4584-bdce-b11462c58491"
      },
      "outputs": [],
      "source": [
        "# dred\n",
        "score_dred_cov = {}\n",
        "\n",
        "xgb_baseline_dred = XGBClassifier()\n",
        "\n",
        "\n",
        "xgb_baseline_dred.fit(dred_features_train, dred_target_train)\n",
        "yhat = xgb_baseline_dred.predict(dred_features_test)\n",
        "\n",
        "score_dred_cov['micro'] =  f1_score(dred_target_test, yhat, average = None)\n",
        "print(f\"Les scores de chaque classe: \\n{score_dred_cov['micro']}\")\n",
        "\n",
        "print()\n",
        "score_dred_cov['macro'] = f1_score(dred_target_test, yhat, average = \"macro\")\n",
        "print(f\"Les scores de ENSEMBLE classe: \\n{score_dred_cov['macro']}\")"
      ]
    },
    {
      "attachments": {},
      "cell_type": "markdown",
      "metadata": {
        "id": "V6ti1nUlGiC3"
      },
      "source": [
        "### Normalisation avec le stateful pour le ML"
      ]
    },
    {
      "cell_type": "code",
      "execution_count": null,
      "metadata": {
        "colab": {
          "base_uri": "https://localhost:8080/"
        },
        "id": "p5fU9ULGGpSo",
        "outputId": "5421a9ec-a55c-4b5e-e798-85629e30adac"
      },
      "outputs": [],
      "source": [
        "# drop de la colonne de la \"power normalized\"\n",
        "\n",
        "dred_dropped = rw_dred.drop('Pn', axis=1)\n",
        "qud_dropped  = rw_qud.drop('Pn', axis=1)\n",
        "\n",
        "print(dred_dropped.head())\n",
        "print()\n",
        "print(qud_dropped.head())"
      ]
    },
    {
      "cell_type": "code",
      "execution_count": null,
      "metadata": {
        "colab": {
          "base_uri": "https://localhost:8080/"
        },
        "id": "NYujhpOyameB",
        "outputId": "568e81de-c0c9-4149-ca9c-bd4796874ef7"
      },
      "outputs": [],
      "source": [
        "np.set_printoptions(precision=25, suppress=True)\n",
        "processor = utils.DataProcessing(qud_dropped)\n",
        "X_qud , y_qud = processor.processing()"
      ]
    },
    {
      "cell_type": "code",
      "execution_count": null,
      "metadata": {
        "colab": {
          "base_uri": "https://localhost:8080/"
        },
        "id": "L_ruE0kh0UHF",
        "outputId": "fbec07ac-892f-440a-a0b3-768a0e4016c9"
      },
      "outputs": [],
      "source": [
        "processor = utils.DataProcessing(dred_dropped)\n",
        "X_dred , y_dred = processor.processing()"
      ]
    },
    {
      "cell_type": "code",
      "execution_count": 24,
      "metadata": {},
      "outputs": [
        {
          "data": {
            "image/png": "[encoded data removed]",
            "text/plain": [
              "<Figure size 640x480 with 2 Axes>"
            ]
          },
          "metadata": {},
          "output_type": "display_data"
        }
      ],
      "source": [
        "# visuel comparatif (superpose)\n",
        "\n",
        "debut = 0\n",
        "fin   = -1\n",
        "\n",
        "# Creating plot with dataset_1\n",
        "fig, ax1 = plt.subplots()\n",
        " \n",
        "color = 'tab:blue'\n",
        "ax1.set_xlabel('Timesteps')\n",
        "ax1.set_ylabel('Puissance originale', color = color)\n",
        "ax1.plot(df_dred['p2'][debut:fin], color = color)\n",
        "ax1.tick_params(axis ='y', labelcolor = color)\n",
        " \n",
        "# Adding Twin Axes to plot using dataset_2\n",
        "ax2 = ax1.twinx()\n",
        " \n",
        "# color = 'tab:green'\n",
        "ax2.set_ylabel('Puissance normalisee', color = 'black')\n",
        "ax2.plot(X_dred[debut:fin][4], color = 'black', alpha = 0.5)\n",
        "ax2.tick_params(axis ='y', labelcolor = 'black')\n",
        " \n",
        "# Adding title\n",
        "plt.title('Comparatif des releves originaux de puissance avec la methode de la StatefulScaler', fontsize = 8, fontweight =\"bold\")\n",
        " \n",
        "# Show plot\n",
        "plt.show()# Creating plot with dataset_1"
      ]
    },
    {
      "attachments": {},
      "cell_type": "markdown",
      "metadata": {
        "id": "r-hFogxXpuHt"
      },
      "source": [
        "Models"
      ]
    },
    {
      "cell_type": "code",
      "execution_count": null,
      "metadata": {
        "colab": {
          "base_uri": "https://localhost:8080/"
        },
        "id": "AyOfrK2Gju7r",
        "outputId": "187514c5-1f91-4c0a-f26a-d0889a92c2c8"
      },
      "outputs": [],
      "source": [
        "# Modele de qud\n",
        "\n",
        "score_qud_sc = {}\n",
        "\n",
        "xgb_sf = XGBClassifier()\n",
        "\n",
        "\n",
        "xgb_sf.fit(qud_features_train_sf, qud_target_train_sf)\n",
        "yhat = xgb_sf.predict(qud_features_test_sf)\n",
        "\n",
        "\n",
        "score_qud_sc['micro'] =  f1_score(qud_target_test_sf, yhat, average = None)\n",
        "print(f\"Les scores de chaque classe: \\n{score_qud_sc['micro']}\")\n",
        "\n",
        "print()\n",
        "score_qud_sc['macro'] = f1_score(qud_target_test_sf, yhat, average = \"macro\")\n",
        "print(f\"Les scores de ENSEMBLE classe: \\n{score_qud_sc['macro']}\")"
      ]
    },
    {
      "cell_type": "code",
      "execution_count": null,
      "metadata": {
        "colab": {
          "base_uri": "https://localhost:8080/"
        },
        "id": "MsBpF2JfibVU",
        "outputId": "7f22310c-4eb8-4349-b517-d8dbe5b932bd"
      },
      "outputs": [],
      "source": [
        "# Modele de dred\n",
        "\n",
        "score_dred_sc = {}\n",
        "\n",
        "xgb_sf = XGBClassifier()\n",
        "\n",
        "\n",
        "xgb_sf.fit(dred_features_train_sf, dred_target_train_sf)\n",
        "yhat = xgb_sf.predict(dred_features_test_sf)\n",
        "\n",
        "\n",
        "score_dred_sc['micro'] =  f1_score(dred_target_test_sf, yhat, average = None)\n",
        "print(f\"Les scores de chaque classe: \\n{score_dred_sc['micro']}\")\n",
        "\n",
        "print()\n",
        "score_dred_sc['macro'] = f1_score(dred_target_test_sf, yhat, average = \"macro\")\n",
        "print(f\"Les scores de ENSEMBLE classe: \\n{score_dred_sc['macro']}\")"
      ]
    },
    {
      "attachments": {},
      "cell_type": "markdown",
      "metadata": {},
      "source": [
        "### Les scores"
      ]
    },
    {
      "cell_type": "code",
      "execution_count": 28,
      "metadata": {},
      "outputs": [
        {
          "name": "stdout",
          "output_type": "stream",
          "text": [
            "DRED  ==> {'micro': array([0.5650479129446159  , 0.9939301972685888  , 0.032210834553440704,\n",
            "       0.4658136745301879  , 0.5015364559083713  ]), 'macro': 0.5117078150410409}\n",
            "QUD   ==> {'micro': array([0.9594662638469285, 0.9903846153846153, 0.9905660377358491,\n",
            "       0.857685009487666 , 0.9815013404825736]), 'macro': 0.9559206533875264}\n"
          ]
        }
      ],
      "source": [
        "# Les scores avec la technique du coef de covariance\n",
        "\n",
        "print(f\"DRED  ==> {score_dred_cov}\")\n",
        "print(f\"QUD   ==> {score_qud_cov}\")"
      ]
    },
    {
      "cell_type": "code",
      "execution_count": 29,
      "metadata": {},
      "outputs": [
        {
          "name": "stdout",
          "output_type": "stream",
          "text": [
            "DRED  ==> {'micro': array([0.4767511474755538 , 0.9886792452830189 , 0.                 ,\n",
            "       0.32877919788453064, 0.5811226998628329 ]), 'macro': 0.4750664581011873}\n",
            "QUD   ==> {'micro': array([0.9448335176311585, 0.9809523809523809, 0.                ,\n",
            "       0.8404408241494968, 0.9643092321875412]), 'macro': 0.7461071909841155}\n"
          ]
        }
      ],
      "source": [
        "# Les scores avec la technique Statefulscaler\n",
        "\n",
        "print(f\"DRED  ==> {score_dred_sc}\")\n",
        "print(f\"QUD   ==> {score_qud_sc}\")"
      ]
    },
    {
      "attachments": {},
      "cell_type": "markdown",
      "metadata": {
        "id": "YI5EvZa4Iv5q"
      },
      "source": [
        "### Sauvegarde du meilleur model en ML"
      ]
    },
    {
      "cell_type": "code",
      "execution_count": 30,
      "metadata": {},
      "outputs": [
        {
          "name": "stdout",
          "output_type": "stream",
          "text": [
            "C:/Users/georg/OneDrive/Documents/GitHub/CapstoneProjectEnergy/Models/baseline_qud1_model.sav\n",
            "C:/Users/georg/OneDrive/Documents/GitHub/CapstoneProjectEnergy/Models/baseline_dred1_model.sav\n"
          ]
        }
      ],
      "source": [
        "# avec pickle\n",
        "\n",
        "path = \"C:/Users/georg/OneDrive/Documents/GitHub/CapstoneProjectEnergy/\"\n",
        "\n",
        "filename1 = path + 'Models/baseline_qud1_model.sav'\n",
        "pickle.dump(xgb_baseline_dred, open(filename1, 'wb'))\n",
        "print(filename1)\n",
        "\n",
        "# avec joblib\n",
        "\n",
        "filename2 = path + 'Models/baseline_dred1_model.sav'\n",
        "joblib.dump(xgb_baseline_qud, filename2)\n",
        "print(filename2)"
      ]
    },
    {
      "attachments": {},
      "cell_type": "markdown",
      "metadata": {
        "id": "KzQ-ULQbh3E5"
      },
      "source": [
        "## Deep Machine Learning"
      ]
    },
    {
      "cell_type": "code",
      "execution_count": null,
      "metadata": {
        "colab": {
          "base_uri": "https://localhost:8080/"
        },
        "id": "XbSkwnLTh6MU",
        "outputId": "20e6c4e8-d4c6-4f75-c57c-f8072d2fe2e8"
      },
      "outputs": [],
      "source": [
        "def create_model(input_shape, output_shape):\n",
        "\n",
        "  input  = tf.keras.Input( shape = input_shape )\n",
        "  output = tf.keras.layers.Dense( 128 , activation = \"relu\" )( input )\n",
        "  output = tf.keras.layers.Dense( 256 , activation = \"relu\" )( input )\n",
        "  lstm   = tf.keras.layers.LSTM(256)( output ) \n",
        "  output = tf.keras.layers.Dense( 256 , activation = \"relu\" )( lstm )\n",
        "  output = tf.keras.layers.Dense( 256 , activation = \"relu\" )( output )\n",
        "  output = tf.keras.layers.Dense(  5  , activation = \"softmax\" )( output )\n",
        "\n",
        "  model = tf.keras.Model( inputs= input , outputs= output )\n",
        "\n",
        "  return model\n",
        "\n",
        "model = create_model( \n",
        "    input_shape = (3, 4), # 3 lectures pour 4 features chacune\n",
        "    output_shape = 2\n",
        " )\n",
        "model.summary()"
      ]
    },
    {
      "cell_type": "code",
      "execution_count": null,
      "metadata": {
        "id": "cmGXeBJkkmos"
      },
      "outputs": [],
      "source": [
        "model.compile(\n",
        "    optimizer = tf.keras.optimizers.Adam(learning_rate=1e-3),\n",
        "    loss = \"categorical_crossentropy\",\n",
        "    metrics = [utils.get_f1, 'accuracy']\n",
        ")"
      ]
    },
    {
      "cell_type": "code",
      "execution_count": null,
      "metadata": {
        "colab": {
          "base_uri": "https://localhost:8080/"
        },
        "id": "5tm_wmMfiQPu",
        "outputId": "5b30f625-8aba-4b0e-e226-9f759a2019f9"
      },
      "outputs": [],
      "source": [
        "# donnees\n",
        "## l'on retire la colonne Pn avant de le passer au Generateur\n",
        "\n",
        "rw_dred_cleaned = rw_dred.drop(['Pn'] , axis=1)\n",
        "rw_qud_cleaned  = rw_qud.drop(['Pn'] , axis=1)\n",
        "# print(rw_dred_cleaned.shape)\n",
        "\n",
        "## dred\n",
        "dred_train = rw_dred_cleaned[:int(rw_dred_cleaned.shape[0]*0.8)]\n",
        "dred_test = rw_dred_cleaned[int(rw_dred_cleaned.shape[0]*0.8):]\n",
        "print(dred_train.head())\n",
        "\n",
        "## qud\n",
        "qud_train = rw_qud_cleaned[:int(rw_qud_cleaned.shape[0]*0.8)]\n",
        "qud_test = rw_qud_cleaned[int(rw_qud_cleaned.shape[0]*0.8):]\n",
        "print(qud_train.head())"
      ]
    },
    {
      "attachments": {},
      "cell_type": "markdown",
      "metadata": {},
      "source": [
        "### Avec le StatefulScaler"
      ]
    },
    {
      "cell_type": "code",
      "execution_count": 32,
      "metadata": {
        "colab": {
          "base_uri": "https://localhost:8080/"
        },
        "id": "XbSkwnLTh6MU",
        "outputId": "20e6c4e8-d4c6-4f75-c57c-f8072d2fe2e8"
      },
      "outputs": [
        {
          "name": "stdout",
          "output_type": "stream",
          "text": [
            "Model: \"model\"\n",
            "_________________________________________________________________\n",
            " Layer (type)                Output Shape              Param #   \n",
            "=================================================================\n",
            " input_1 (InputLayer)        [(None, 3, 5)]            0         \n",
            "                                                                 \n",
            " dense_1 (Dense)             (None, 3, 256)            1536      \n",
            "                                                                 \n",
            " lstm (LSTM)                 (None, 256)               525312    \n",
            "                                                                 \n",
            " dense_2 (Dense)             (None, 256)               65792     \n",
            "                                                                 \n",
            " dense_3 (Dense)             (None, 256)               65792     \n",
            "                                                                 \n",
            " dense_4 (Dense)             (None, 5)                 1285      \n",
            "                                                                 \n",
            "=================================================================\n",
            "Total params: 659,717\n",
            "Trainable params: 659,717\n",
            "Non-trainable params: 0\n",
            "_________________________________________________________________\n",
            "\n",
            "Model: \"model_1\"\n",
            "_________________________________________________________________\n",
            " Layer (type)                Output Shape              Param #   \n",
            "=================================================================\n",
            " input_2 (InputLayer)        [(None, 3, 5)]            0         \n",
            "                                                                 \n",
            " dense_6 (Dense)             (None, 3, 256)            1536      \n",
            "                                                                 \n",
            " lstm_1 (LSTM)               (None, 256)               525312    \n",
            "                                                                 \n",
            " dense_7 (Dense)             (None, 256)               65792     \n",
            "                                                                 \n",
            " dense_8 (Dense)             (None, 256)               65792     \n",
            "                                                                 \n",
            " dense_9 (Dense)             (None, 5)                 1285      \n",
            "                                                                 \n",
            "=================================================================\n",
            "Total params: 659,717\n",
            "Trainable params: 659,717\n",
            "Non-trainable params: 0\n",
            "_________________________________________________________________\n"
          ]
        }
      ],
      "source": [
        "def create_model(input_shape, output_shape):\n",
        "\n",
        "  input  = tf.keras.Input( shape = input_shape )\n",
        "  output = tf.keras.layers.Dense( 128 , activation = \"relu\" )( input )\n",
        "  output = tf.keras.layers.Dense( 256 , activation = \"relu\" )( input )\n",
        "  lstm   = tf.keras.layers.LSTM(256)( output ) \n",
        "  output = tf.keras.layers.Dense( 256 , activation = \"relu\" )( lstm )\n",
        "  output = tf.keras.layers.Dense( 256 , activation = \"relu\" )( output )\n",
        "  output = tf.keras.layers.Dense(  5  , activation = \"softmax\" )( output )\n",
        "\n",
        "  model = tf.keras.Model( inputs= input , outputs= output )\n",
        "\n",
        "  return model\n",
        "\n",
        "model_qud_sc = create_model( \n",
        "    input_shape = (3, 5), # 3 lectures pour 4 features chacune\n",
        "    output_shape = 2\n",
        " )\n",
        "model_qud_sc.summary()\n",
        "\n",
        "print()\n",
        "\n",
        "model_dred_sc = create_model( \n",
        "    input_shape = (3, 5), # 3 lectures pour 4 features chacune\n",
        "    output_shape = 2\n",
        " )\n",
        "model_dred_sc.summary()"
      ]
    },
    {
      "cell_type": "code",
      "execution_count": 33,
      "metadata": {
        "id": "cmGXeBJkkmos"
      },
      "outputs": [],
      "source": [
        "model_qud_sc.compile(\n",
        "    optimizer = tf.keras.optimizers.Adam(learning_rate=1e-3),\n",
        "    loss = \"categorical_crossentropy\",\n",
        "    metrics = [utils.get_f1, 'accuracy']\n",
        ")\n",
        "\n",
        "model_dred_sc.compile(\n",
        "    optimizer = tf.keras.optimizers.Adam(learning_rate=1e-3),\n",
        "    loss = \"categorical_crossentropy\",\n",
        "    metrics = [utils.get_f1, 'accuracy']\n",
        ")"
      ]
    },
    {
      "cell_type": "code",
      "execution_count": null,
      "metadata": {
        "colab": {
          "base_uri": "https://localhost:8080/"
        },
        "id": "sm7kLaaUk37Q",
        "outputId": "85d7672e-90e5-4685-c045-e3e8ebfb3c94"
      },
      "outputs": [],
      "source": [
        "#dred\n",
        "\n",
        "generateur_train = utils.Generateur_sc(dred_train, window_size=3, batch_size=256)\n",
        "generateur_test = utils.Generateur_sc(dred_test, window_size=3, batch_size=256)\n",
        "\n",
        "# print((generateur_train[0]))\n",
        "dred_hist_sc = model_dred_sc.fit(\n",
        "    x = generateur_train,\n",
        "    epochs=10,\n",
        "    validation_data = generateur_test\n",
        ")"
      ]
    },
    {
      "cell_type": "code",
      "execution_count": null,
      "metadata": {
        "colab": {
          "base_uri": "https://localhost:8080/"
        },
        "id": "Akx0pd3nwmIh",
        "outputId": "80ce53bf-e9cd-4a5c-e5d9-88bc5b2b1f7d"
      },
      "outputs": [],
      "source": [
        "#qud\n",
        "\n",
        "generateur_train = utils.Generateur_sc(qud_train, window_size=3, batch_size=256)\n",
        "generateur_test = utils.Generateur_sc(qud_test, window_size=3, batch_size=256)\n",
        "\n",
        "# print((generateur_train[0]))\n",
        "qud_hist_sc = model_qud_sc.fit(\n",
        "    x = generateur_train,\n",
        "    epochs=10,\n",
        "    validation_data = generateur_test\n",
        ")"
      ]
    },
    {
      "cell_type": "code",
      "execution_count": 36,
      "metadata": {},
      "outputs": [
        {
          "name": "stdout",
          "output_type": "stream",
          "text": [
            "DRED  ==> 0.9002543091773987\n",
            "QUD   ==> 0.8160226941108704\n"
          ]
        }
      ],
      "source": [
        "# Les scores avec la technique du stateful scaler\n",
        "\n",
        "dred_score_sc = np.max(dred_hist_sc.history[\"val_get_f1\"])\n",
        "qud_score_sc  = np.max(qud_hist_sc.history[\"val_get_f1\"])\n",
        "\n",
        "print(f\"DRED  ==> {dred_score_sc}\")\n",
        "print(f\"QUD   ==> {qud_score_sc}\")"
      ]
    },
    {
      "attachments": {},
      "cell_type": "markdown",
      "metadata": {},
      "source": [
        "### Avec le Coef de variance"
      ]
    },
    {
      "cell_type": "code",
      "execution_count": 37,
      "metadata": {},
      "outputs": [
        {
          "name": "stdout",
          "output_type": "stream",
          "text": [
            "Model: \"model_2\"\n",
            "_________________________________________________________________\n",
            " Layer (type)                Output Shape              Param #   \n",
            "=================================================================\n",
            " input_3 (InputLayer)        [(None, 1, 5)]            0         \n",
            "                                                                 \n",
            " dense_11 (Dense)            (None, 1, 256)            1536      \n",
            "                                                                 \n",
            " lstm_2 (LSTM)               (None, 256)               525312    \n",
            "                                                                 \n",
            " dense_12 (Dense)            (None, 256)               65792     \n",
            "                                                                 \n",
            " dense_13 (Dense)            (None, 256)               65792     \n",
            "                                                                 \n",
            " dense_14 (Dense)            (None, 5)                 1285      \n",
            "                                                                 \n",
            "=================================================================\n",
            "Total params: 659,717\n",
            "Trainable params: 659,717\n",
            "Non-trainable params: 0\n",
            "_________________________________________________________________\n",
            "\n",
            "Model: \"model_3\"\n",
            "_________________________________________________________________\n",
            " Layer (type)                Output Shape              Param #   \n",
            "=================================================================\n",
            " input_4 (InputLayer)        [(None, 1, 5)]            0         \n",
            "                                                                 \n",
            " dense_16 (Dense)            (None, 1, 256)            1536      \n",
            "                                                                 \n",
            " lstm_3 (LSTM)               (None, 256)               525312    \n",
            "                                                                 \n",
            " dense_17 (Dense)            (None, 256)               65792     \n",
            "                                                                 \n",
            " dense_18 (Dense)            (None, 256)               65792     \n",
            "                                                                 \n",
            " dense_19 (Dense)            (None, 5)                 1285      \n",
            "                                                                 \n",
            "=================================================================\n",
            "Total params: 659,717\n",
            "Trainable params: 659,717\n",
            "Non-trainable params: 0\n",
            "_________________________________________________________________\n"
          ]
        }
      ],
      "source": [
        "def create_model(input_shape, output_shape):\n",
        "\n",
        "  input  = tf.keras.Input( shape = input_shape )\n",
        "  output = tf.keras.layers.Dense( 128 , activation = \"relu\" )( input )\n",
        "  output = tf.keras.layers.Dense( 256 , activation = \"relu\" )( input )\n",
        "  lstm   = tf.keras.layers.LSTM(256)( output ) \n",
        "  output = tf.keras.layers.Dense( 256 , activation = \"relu\" )( lstm )\n",
        "  output = tf.keras.layers.Dense( 256 , activation = \"relu\" )( output )\n",
        "  output = tf.keras.layers.Dense(  5  , activation = \"softmax\" )( output )\n",
        "\n",
        "  model = tf.keras.Model( inputs= input , outputs= output )\n",
        "\n",
        "  return model\n",
        "\n",
        "model_qud_cv = create_model( \n",
        "    input_shape = (1, 5), # 3 lectures pour 4 features chacune\n",
        "    output_shape = 2\n",
        " )\n",
        "model_qud_cv.summary()\n",
        "\n",
        "print()\n",
        "\n",
        "model_dred_cv = create_model( \n",
        "    input_shape = (1, 5), # 3 lectures pour 4 features chacune\n",
        "    output_shape = 2\n",
        " )\n",
        "model_dred_cv.summary()"
      ]
    },
    {
      "cell_type": "code",
      "execution_count": 38,
      "metadata": {},
      "outputs": [],
      "source": [
        "model_qud_cv.compile(\n",
        "    optimizer = tf.keras.optimizers.Adam(learning_rate=1e-3),\n",
        "    loss = \"categorical_crossentropy\",\n",
        "    metrics = [utils.get_f1, 'accuracy']\n",
        ")\n",
        "model_dred_cv.compile(\n",
        "    optimizer = tf.keras.optimizers.Adam(learning_rate=1e-3),\n",
        "    loss = \"categorical_crossentropy\",\n",
        "    metrics = [utils.get_f1, 'accuracy']\n",
        ")"
      ]
    },
    {
      "cell_type": "code",
      "execution_count": 39,
      "metadata": {},
      "outputs": [
        {
          "name": "stdout",
          "output_type": "stream",
          "text": [
            "Epoch 1/10\n",
            "519/519 [==============================] - 47s 81ms/step - loss: 0.5974 - get_f1: 0.7540 - accuracy: 0.7935 - val_loss: 0.5329 - val_get_f1: 0.7253 - val_accuracy: 0.8907\n",
            "Epoch 2/10\n",
            "519/519 [==============================] - 42s 80ms/step - loss: 0.4291 - get_f1: 0.8805 - accuracy: 0.8827 - val_loss: 0.4123 - val_get_f1: 0.9003 - val_accuracy: 0.9003\n",
            "Epoch 3/10\n",
            "519/519 [==============================] - 44s 84ms/step - loss: 0.4114 - get_f1: 0.8860 - accuracy: 0.8869 - val_loss: 0.4390 - val_get_f1: 0.9003 - val_accuracy: 0.9003\n",
            "Epoch 4/10\n",
            "519/519 [==============================] - 43s 83ms/step - loss: 0.4230 - get_f1: 0.8845 - accuracy: 0.8849 - val_loss: 0.4042 - val_get_f1: 0.9003 - val_accuracy: 0.9003\n",
            "Epoch 5/10\n",
            "519/519 [==============================] - 44s 85ms/step - loss: 0.4089 - get_f1: 0.8840 - accuracy: 0.8860 - val_loss: 0.4035 - val_get_f1: 0.9003 - val_accuracy: 0.9003\n",
            "Epoch 6/10\n",
            "519/519 [==============================] - 42s 81ms/step - loss: 0.4091 - get_f1: 0.8819 - accuracy: 0.8819 - val_loss: 0.4313 - val_get_f1: 0.9003 - val_accuracy: 0.9003\n",
            "Epoch 7/10\n",
            "519/519 [==============================] - 42s 82ms/step - loss: 0.4075 - get_f1: 0.8819 - accuracy: 0.8819 - val_loss: 0.4348 - val_get_f1: 0.9003 - val_accuracy: 0.9003\n",
            "Epoch 8/10\n",
            "519/519 [==============================] - 41s 79ms/step - loss: 0.3933 - get_f1: 0.8876 - accuracy: 0.8878 - val_loss: 0.4180 - val_get_f1: 0.8874 - val_accuracy: 0.8924\n",
            "Epoch 9/10\n",
            "519/519 [==============================] - 43s 82ms/step - loss: 0.3945 - get_f1: 0.8811 - accuracy: 0.8825 - val_loss: 0.4406 - val_get_f1: 0.8781 - val_accuracy: 0.8783\n",
            "Epoch 10/10\n",
            "519/519 [==============================] - 41s 80ms/step - loss: 0.3914 - get_f1: 0.8881 - accuracy: 0.8901 - val_loss: 0.4243 - val_get_f1: 0.8994 - val_accuracy: 0.8994\n"
          ]
        }
      ],
      "source": [
        "#dred\n",
        "\n",
        "generateur_train = utils.Generateur_cv(dred_train, window_size=3, batch_size=256)\n",
        "generateur_test = utils.Generateur_cv(dred_test, window_size=3, batch_size=256)\n",
        "\n",
        "# print((generateur_train[0]))\n",
        "dred_hist_cv = model_dred_cv.fit(\n",
        "    x = generateur_train,\n",
        "    epochs=10,\n",
        "    validation_data = generateur_test\n",
        ")"
      ]
    },
    {
      "cell_type": "code",
      "execution_count": 40,
      "metadata": {},
      "outputs": [
        {
          "name": "stdout",
          "output_type": "stream",
          "text": [
            "Epoch 1/10\n",
            "519/519 [==============================] - 47s 82ms/step - loss: 0.6164 - get_f1: 0.7589 - accuracy: 0.7984 - val_loss: 0.4483 - val_get_f1: 0.8997 - val_accuracy: 0.9003\n",
            "Epoch 2/10\n",
            "519/519 [==============================] - 41s 79ms/step - loss: 0.4312 - get_f1: 0.8803 - accuracy: 0.8821 - val_loss: 0.4244 - val_get_f1: 0.9003 - val_accuracy: 0.9003\n",
            "Epoch 3/10\n",
            "519/519 [==============================] - 43s 82ms/step - loss: 0.4205 - get_f1: 0.8855 - accuracy: 0.8856 - val_loss: 0.4589 - val_get_f1: 0.9003 - val_accuracy: 0.9003\n",
            "Epoch 4/10\n",
            "519/519 [==============================] - 42s 81ms/step - loss: 0.4194 - get_f1: 0.8839 - accuracy: 0.8839 - val_loss: 0.4006 - val_get_f1: 0.9003 - val_accuracy: 0.9003\n",
            "Epoch 5/10\n",
            "519/519 [==============================] - 43s 83ms/step - loss: 0.4109 - get_f1: 0.8855 - accuracy: 0.8857 - val_loss: 0.4093 - val_get_f1: 0.9003 - val_accuracy: 0.9003\n",
            "Epoch 6/10\n",
            "519/519 [==============================] - 42s 81ms/step - loss: 0.4061 - get_f1: 0.8860 - accuracy: 0.8863 - val_loss: 0.5220 - val_get_f1: 0.7968 - val_accuracy: 0.8054\n",
            "Epoch 7/10\n",
            "519/519 [==============================] - 42s 81ms/step - loss: 0.4047 - get_f1: 0.8826 - accuracy: 0.8836 - val_loss: 0.4074 - val_get_f1: 0.9003 - val_accuracy: 0.9003\n",
            "Epoch 8/10\n",
            "519/519 [==============================] - 43s 83ms/step - loss: 0.4012 - get_f1: 0.8839 - accuracy: 0.8855 - val_loss: 0.4213 - val_get_f1: 0.9003 - val_accuracy: 0.9003\n",
            "Epoch 9/10\n",
            "519/519 [==============================] - 42s 81ms/step - loss: 0.3964 - get_f1: 0.8853 - accuracy: 0.8862 - val_loss: 0.4486 - val_get_f1: 0.8574 - val_accuracy: 0.8601\n",
            "Epoch 10/10\n",
            "519/519 [==============================] - 42s 81ms/step - loss: 0.3956 - get_f1: 0.8879 - accuracy: 0.8897 - val_loss: 0.4174 - val_get_f1: 0.9003 - val_accuracy: 0.9003\n"
          ]
        }
      ],
      "source": [
        "#qud\n",
        "\n",
        "generateur_train = utils.Generateur_cv(dred_train, window_size=3, batch_size=256)\n",
        "generateur_test = utils.Generateur_cv(dred_test, window_size=3, batch_size=256)\n",
        "\n",
        "# print((generateur_train[0]))\n",
        "qud_hist_cv = model_qud_cv.fit(\n",
        "    x = generateur_train,\n",
        "    epochs=10,\n",
        "    validation_data = generateur_test\n",
        ")"
      ]
    },
    {
      "cell_type": "code",
      "execution_count": 41,
      "metadata": {},
      "outputs": [
        {
          "name": "stdout",
          "output_type": "stream",
          "text": [
            "DRED  ==> 0.9002543091773987\n",
            "QUD   ==> 0.9002543091773987\n"
          ]
        }
      ],
      "source": [
        "# Les scores avec la technique du coef de covariance\n",
        "\n",
        "dred_score_cv = np.max(dred_hist_cv.history[\"val_get_f1\"])\n",
        "qud_score_cv  = np.max(qud_hist_cv.history[\"val_get_f1\"])\n",
        "\n",
        "print(f\"DRED  ==> {dred_score_cv}\")\n",
        "print(f\"QUD   ==> {qud_score_cv}\")"
      ]
    },
    {
      "cell_type": "code",
      "execution_count": 42,
      "metadata": {},
      "outputs": [
        {
          "name": "stdout",
          "output_type": "stream",
          "text": [
            "DRED  ==> 1\n",
            "QUD   ==> 1\n"
          ]
        }
      ],
      "source": [
        "# Les best epochs avec la technique du coef de covariance\n",
        "\n",
        "dred_score_cv = np.argmax(dred_hist_cv.history[\"val_get_f1\"])\n",
        "qud_score_cv  = np.argmax(qud_hist_cv.history[\"val_get_f1\"])\n",
        "\n",
        "print(f\"DRED  ==> {dred_score_cv}\")\n",
        "print(f\"QUD   ==> {qud_score_cv}\")"
      ]
    },
    {
      "attachments": {},
      "cell_type": "markdown",
      "metadata": {},
      "source": [
        "### Scores en DML"
      ]
    },
    {
      "cell_type": "code",
      "execution_count": 43,
      "metadata": {},
      "outputs": [
        {
          "name": "stdout",
          "output_type": "stream",
          "text": [
            "DRED  ==> 0.9002543091773987\n",
            "QUD   ==> 0.8160226941108704\n"
          ]
        }
      ],
      "source": [
        "# Les scores avec la technique du stateful scaler\n",
        "\n",
        "dred_score_sc = np.max(dred_hist_sc.history[\"val_get_f1\"])\n",
        "qud_score_sc  = np.max(qud_hist_sc.history[\"val_get_f1\"])\n",
        "\n",
        "print(f\"DRED  ==> {dred_score_sc}\")\n",
        "print(f\"QUD   ==> {qud_score_sc}\")"
      ]
    },
    {
      "cell_type": "code",
      "execution_count": 44,
      "metadata": {},
      "outputs": [
        {
          "name": "stdout",
          "output_type": "stream",
          "text": [
            "DRED  ==> 0.9002543091773987\n",
            "QUD   ==> 0.9002543091773987\n"
          ]
        }
      ],
      "source": [
        "# Les scores avec la technique du coef de covariance\n",
        "\n",
        "dred_score_cv = np.max(dred_hist_cv.history[\"val_get_f1\"])\n",
        "qud_score_cv  = np.max(qud_hist_cv.history[\"val_get_f1\"])\n",
        "\n",
        "print(f\"DRED  ==> {dred_score_cv}\")\n",
        "print(f\"QUD   ==> {qud_score_cv}\")"
      ]
    }
  ],
  "metadata": {
    "accelerator": "GPU",
    "colab": {
      "collapsed_sections": [
        "awxDKgBT3U3z"
      ],
      "gpuType": "T4",
      "provenance": []
    },
    "kernelspec": {
      "display_name": "Python 3",
      "name": "python3"
    },
    "language_info": {
      "codemirror_mode": {
        "name": "ipython",
        "version": 3
      },
      "file_extension": ".py",
      "mimetype": "text/x-python",
      "name": "python",
      "nbconvert_exporter": "python",
      "pygments_lexer": "ipython3",
      "version": "3.10.0"
    }
  },
  "nbformat": 4,
  "nbformat_minor": 0
}
