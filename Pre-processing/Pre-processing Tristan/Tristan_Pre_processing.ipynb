{
  "cells": [
    {
      "cell_type": "code",
      "execution_count": 1,
      "metadata": {
        "id": "N3H2ADEgmyHo"
      },
      "outputs": [],
      "source": [
        "import pandas as pd\n",
        "import numpy as np\n",
        "import tensorflow as tf"
      ]
    },
    {
      "cell_type": "code",
      "execution_count": null,
      "metadata": {
        "colab": {
          "base_uri": "https://localhost:8080/",
          "height": 424
        },
        "id": "8sBn58j3m4Z7",
        "outputId": "76bdf4ea-9262-4315-f3e3-5e8eefec2608"
      },
      "outputs": [
        {
          "data": {
            "text/html": [
              "\n",
              "  <div id=\"df-a7bd42e9-426a-4d25-94d3-f3213c2e7bc9\">\n",
              "    <div class=\"colab-df-container\">\n",
              "      <div>\n",
              "<style scoped>\n",
              "    .dataframe tbody tr th:only-of-type {\n",
              "        vertical-align: middle;\n",
              "    }\n",
              "\n",
              "    .dataframe tbody tr th {\n",
              "        vertical-align: top;\n",
              "    }\n",
              "\n",
              "    .dataframe thead th {\n",
              "        text-align: right;\n",
              "    }\n",
              "</style>\n",
              "<table border=\"1\" class=\"dataframe\">\n",
              "  <thead>\n",
              "    <tr style=\"text-align: right;\">\n",
              "      <th></th>\n",
              "      <th>Occupancy</th>\n",
              "      <th>Power Consumption</th>\n",
              "      <th>Normalized Power Consumption</th>\n",
              "      <th>P(t)-P(t+1)</th>\n",
              "      <th>P(t)-P(t-1)</th>\n",
              "      <th>Micro-Moment Class</th>\n",
              "    </tr>\n",
              "  </thead>\n",
              "  <tbody>\n",
              "    <tr>\n",
              "      <th>0</th>\n",
              "      <td>1</td>\n",
              "      <td>0.00</td>\n",
              "      <td>-0.002259</td>\n",
              "      <td>0.00</td>\n",
              "      <td>0.00</td>\n",
              "      <td>0</td>\n",
              "    </tr>\n",
              "    <tr>\n",
              "      <th>1</th>\n",
              "      <td>1</td>\n",
              "      <td>0.00</td>\n",
              "      <td>-0.002259</td>\n",
              "      <td>-166.43</td>\n",
              "      <td>0.00</td>\n",
              "      <td>1</td>\n",
              "    </tr>\n",
              "    <tr>\n",
              "      <th>2</th>\n",
              "      <td>1</td>\n",
              "      <td>166.43</td>\n",
              "      <td>0.007632</td>\n",
              "      <td>0.00</td>\n",
              "      <td>166.43</td>\n",
              "      <td>3</td>\n",
              "    </tr>\n",
              "    <tr>\n",
              "      <th>3</th>\n",
              "      <td>1</td>\n",
              "      <td>159.55</td>\n",
              "      <td>0.007223</td>\n",
              "      <td>0.00</td>\n",
              "      <td>0.00</td>\n",
              "      <td>3</td>\n",
              "    </tr>\n",
              "    <tr>\n",
              "      <th>4</th>\n",
              "      <td>1</td>\n",
              "      <td>143.27</td>\n",
              "      <td>0.006255</td>\n",
              "      <td>0.00</td>\n",
              "      <td>0.00</td>\n",
              "      <td>3</td>\n",
              "    </tr>\n",
              "    <tr>\n",
              "      <th>...</th>\n",
              "      <td>...</td>\n",
              "      <td>...</td>\n",
              "      <td>...</td>\n",
              "      <td>...</td>\n",
              "      <td>...</td>\n",
              "      <td>...</td>\n",
              "    </tr>\n",
              "    <tr>\n",
              "      <th>46925</th>\n",
              "      <td>1</td>\n",
              "      <td>-1.64</td>\n",
              "      <td>-0.002357</td>\n",
              "      <td>0.00</td>\n",
              "      <td>0.00</td>\n",
              "      <td>0</td>\n",
              "    </tr>\n",
              "    <tr>\n",
              "      <th>46926</th>\n",
              "      <td>1</td>\n",
              "      <td>-10.64</td>\n",
              "      <td>-0.002891</td>\n",
              "      <td>0.00</td>\n",
              "      <td>0.00</td>\n",
              "      <td>0</td>\n",
              "    </tr>\n",
              "    <tr>\n",
              "      <th>46927</th>\n",
              "      <td>1</td>\n",
              "      <td>79.22</td>\n",
              "      <td>0.002449</td>\n",
              "      <td>0.00</td>\n",
              "      <td>0.00</td>\n",
              "      <td>0</td>\n",
              "    </tr>\n",
              "    <tr>\n",
              "      <th>46928</th>\n",
              "      <td>1</td>\n",
              "      <td>74.38</td>\n",
              "      <td>0.002161</td>\n",
              "      <td>0.00</td>\n",
              "      <td>0.00</td>\n",
              "      <td>0</td>\n",
              "    </tr>\n",
              "    <tr>\n",
              "      <th>46929</th>\n",
              "      <td>1</td>\n",
              "      <td>77.82</td>\n",
              "      <td>0.002366</td>\n",
              "      <td>0.00</td>\n",
              "      <td>0.00</td>\n",
              "      <td>0</td>\n",
              "    </tr>\n",
              "  </tbody>\n",
              "</table>\n",
              "<p>46930 rows × 6 columns</p>\n",
              "</div>\n",
              "      <button class=\"colab-df-convert\" onclick=\"convertToInteractive('df-a7bd42e9-426a-4d25-94d3-f3213c2e7bc9')\"\n",
              "              title=\"Convert this dataframe to an interactive table.\"\n",
              "              style=\"display:none;\">\n",
              "        \n",
              "  <svg xmlns=\"http://www.w3.org/2000/svg\" height=\"24px\"viewBox=\"0 0 24 24\"\n",
              "       width=\"24px\">\n",
              "    <path d=\"M0 0h24v24H0V0z\" fill=\"none\"/>\n",
              "    <path d=\"M18.56 5.44l.94 2.06.94-2.06 2.06-.94-2.06-.94-.94-2.06-.94 2.06-2.06.94zm-11 1L8.5 8.5l.94-2.06 2.06-.94-2.06-.94L8.5 2.5l-.94 2.06-2.06.94zm10 10l.94 2.06.94-2.06 2.06-.94-2.06-.94-.94-2.06-.94 2.06-2.06.94z\"/><path d=\"M17.41 7.96l-1.37-1.37c-.4-.4-.92-.59-1.43-.59-.52 0-1.04.2-1.43.59L10.3 9.45l-7.72 7.72c-.78.78-.78 2.05 0 2.83L4 21.41c.39.39.9.59 1.41.59.51 0 1.02-.2 1.41-.59l7.78-7.78 2.81-2.81c.8-.78.8-2.07 0-2.86zM5.41 20L4 18.59l7.72-7.72 1.47 1.35L5.41 20z\"/>\n",
              "  </svg>\n",
              "      </button>\n",
              "      \n",
              "  <style>\n",
              "    .colab-df-container {\n",
              "      display:flex;\n",
              "      flex-wrap:wrap;\n",
              "      gap: 12px;\n",
              "    }\n",
              "\n",
              "    .colab-df-convert {\n",
              "      background-color: #E8F0FE;\n",
              "      border: none;\n",
              "      border-radius: 50%;\n",
              "      cursor: pointer;\n",
              "      display: none;\n",
              "      fill: #1967D2;\n",
              "      height: 32px;\n",
              "      padding: 0 0 0 0;\n",
              "      width: 32px;\n",
              "    }\n",
              "\n",
              "    .colab-df-convert:hover {\n",
              "      background-color: #E2EBFA;\n",
              "      box-shadow: 0px 1px 2px rgba(60, 64, 67, 0.3), 0px 1px 3px 1px rgba(60, 64, 67, 0.15);\n",
              "      fill: #174EA6;\n",
              "    }\n",
              "\n",
              "    [theme=dark] .colab-df-convert {\n",
              "      background-color: #3B4455;\n",
              "      fill: #D2E3FC;\n",
              "    }\n",
              "\n",
              "    [theme=dark] .colab-df-convert:hover {\n",
              "      background-color: #434B5C;\n",
              "      box-shadow: 0px 1px 3px 1px rgba(0, 0, 0, 0.15);\n",
              "      filter: drop-shadow(0px 1px 2px rgba(0, 0, 0, 0.3));\n",
              "      fill: #FFFFFF;\n",
              "    }\n",
              "  </style>\n",
              "\n",
              "      <script>\n",
              "        const buttonEl =\n",
              "          document.querySelector('#df-a7bd42e9-426a-4d25-94d3-f3213c2e7bc9 button.colab-df-convert');\n",
              "        buttonEl.style.display =\n",
              "          google.colab.kernel.accessAllowed ? 'block' : 'none';\n",
              "\n",
              "        async function convertToInteractive(key) {\n",
              "          const element = document.querySelector('#df-a7bd42e9-426a-4d25-94d3-f3213c2e7bc9');\n",
              "          const dataTable =\n",
              "            await google.colab.kernel.invokeFunction('convertToInteractive',\n",
              "                                                     [key], {});\n",
              "          if (!dataTable) return;\n",
              "\n",
              "          const docLinkHtml = 'Like what you see? Visit the ' +\n",
              "            '<a target=\"_blank\" href=https://colab.research.google.com/notebooks/data_table.ipynb>data table notebook</a>'\n",
              "            + ' to learn more about interactive tables.';\n",
              "          element.innerHTML = '';\n",
              "          dataTable['output_type'] = 'display_data';\n",
              "          await google.colab.output.renderOutput(dataTable, element);\n",
              "          const docLink = document.createElement('div');\n",
              "          docLink.innerHTML = docLinkHtml;\n",
              "          element.appendChild(docLink);\n",
              "        }\n",
              "      </script>\n",
              "    </div>\n",
              "  </div>\n",
              "  "
            ],
            "text/plain": [
              "       Occupancy  Power Consumption  Normalized Power Consumption  \\\n",
              "0              1               0.00                     -0.002259   \n",
              "1              1               0.00                     -0.002259   \n",
              "2              1             166.43                      0.007632   \n",
              "3              1             159.55                      0.007223   \n",
              "4              1             143.27                      0.006255   \n",
              "...          ...                ...                           ...   \n",
              "46925          1              -1.64                     -0.002357   \n",
              "46926          1             -10.64                     -0.002891   \n",
              "46927          1              79.22                      0.002449   \n",
              "46928          1              74.38                      0.002161   \n",
              "46929          1              77.82                      0.002366   \n",
              "\n",
              "       P(t)-P(t+1)  P(t)-P(t-1)  Micro-Moment Class  \n",
              "0             0.00         0.00                   0  \n",
              "1          -166.43         0.00                   1  \n",
              "2             0.00       166.43                   3  \n",
              "3             0.00         0.00                   3  \n",
              "4             0.00         0.00                   3  \n",
              "...            ...          ...                 ...  \n",
              "46925         0.00         0.00                   0  \n",
              "46926         0.00         0.00                   0  \n",
              "46927         0.00         0.00                   0  \n",
              "46928         0.00         0.00                   0  \n",
              "46929         0.00         0.00                   0  \n",
              "\n",
              "[46930 rows x 6 columns]"
            ]
          },
          "execution_count": 4,
          "metadata": {},
          "output_type": "execute_result"
        }
      ],
      "source": [
        "df_qud = pd.read_csv('/content/drive/MyDrive/Planification Projet Capstone/QUD.csv', header=None)\n",
        "df_qud.columns = ['Occupancy', 'Power Consumption', 'Normalized Power Consumption', 'P(t)-P(t+1)', 'P(t)-P(t-1)', 'Micro-Moment Class']\n",
        "df_qud"
      ]
    },
    {
      "cell_type": "code",
      "execution_count": 3,
      "metadata": {
        "colab": {
          "base_uri": "https://localhost:8080/",
          "height": 424
        },
        "id": "VCeXba78nOhH",
        "outputId": "fe53cae2-4851-47e1-9d02-87fc9f17d942"
      },
      "outputs": [
        {
          "data": {
            "text/html": [
              "\n",
              "  <div id=\"df-c153d2de-9af7-4c27-a7d8-774ba5070905\">\n",
              "    <div class=\"colab-df-container\">\n",
              "      <div>\n",
              "<style scoped>\n",
              "    .dataframe tbody tr th:only-of-type {\n",
              "        vertical-align: middle;\n",
              "    }\n",
              "\n",
              "    .dataframe tbody tr th {\n",
              "        vertical-align: top;\n",
              "    }\n",
              "\n",
              "    .dataframe thead th {\n",
              "        text-align: right;\n",
              "    }\n",
              "</style>\n",
              "<table border=\"1\" class=\"dataframe\">\n",
              "  <thead>\n",
              "    <tr style=\"text-align: right;\">\n",
              "      <th></th>\n",
              "      <th>Occupancy</th>\n",
              "      <th>Power Consumption</th>\n",
              "      <th>Normalized Power Consumption</th>\n",
              "      <th>P(t)-P(t+1)</th>\n",
              "      <th>P(t)-P(t-1)</th>\n",
              "      <th>Micro-Moment Class</th>\n",
              "    </tr>\n",
              "  </thead>\n",
              "  <tbody>\n",
              "    <tr>\n",
              "      <th>0</th>\n",
              "      <td>1</td>\n",
              "      <td>0.0</td>\n",
              "      <td>-0.68907</td>\n",
              "      <td>0.0</td>\n",
              "      <td>0.0</td>\n",
              "      <td>0</td>\n",
              "    </tr>\n",
              "    <tr>\n",
              "      <th>1</th>\n",
              "      <td>1</td>\n",
              "      <td>0.0</td>\n",
              "      <td>-0.68907</td>\n",
              "      <td>0.0</td>\n",
              "      <td>0.0</td>\n",
              "      <td>0</td>\n",
              "    </tr>\n",
              "    <tr>\n",
              "      <th>2</th>\n",
              "      <td>0</td>\n",
              "      <td>0.0</td>\n",
              "      <td>-0.68907</td>\n",
              "      <td>0.0</td>\n",
              "      <td>0.0</td>\n",
              "      <td>0</td>\n",
              "    </tr>\n",
              "    <tr>\n",
              "      <th>3</th>\n",
              "      <td>1</td>\n",
              "      <td>0.0</td>\n",
              "      <td>-0.68907</td>\n",
              "      <td>0.0</td>\n",
              "      <td>0.0</td>\n",
              "      <td>0</td>\n",
              "    </tr>\n",
              "    <tr>\n",
              "      <th>4</th>\n",
              "      <td>0</td>\n",
              "      <td>0.0</td>\n",
              "      <td>-0.68907</td>\n",
              "      <td>0.0</td>\n",
              "      <td>0.0</td>\n",
              "      <td>0</td>\n",
              "    </tr>\n",
              "    <tr>\n",
              "      <th>...</th>\n",
              "      <td>...</td>\n",
              "      <td>...</td>\n",
              "      <td>...</td>\n",
              "      <td>...</td>\n",
              "      <td>...</td>\n",
              "      <td>...</td>\n",
              "    </tr>\n",
              "    <tr>\n",
              "      <th>166348</th>\n",
              "      <td>1</td>\n",
              "      <td>0.0</td>\n",
              "      <td>-0.68907</td>\n",
              "      <td>0.0</td>\n",
              "      <td>0.0</td>\n",
              "      <td>0</td>\n",
              "    </tr>\n",
              "    <tr>\n",
              "      <th>166349</th>\n",
              "      <td>0</td>\n",
              "      <td>0.0</td>\n",
              "      <td>-0.68907</td>\n",
              "      <td>0.0</td>\n",
              "      <td>0.0</td>\n",
              "      <td>0</td>\n",
              "    </tr>\n",
              "    <tr>\n",
              "      <th>166350</th>\n",
              "      <td>0</td>\n",
              "      <td>0.0</td>\n",
              "      <td>-0.68907</td>\n",
              "      <td>0.0</td>\n",
              "      <td>0.0</td>\n",
              "      <td>0</td>\n",
              "    </tr>\n",
              "    <tr>\n",
              "      <th>166351</th>\n",
              "      <td>1</td>\n",
              "      <td>0.0</td>\n",
              "      <td>-0.68907</td>\n",
              "      <td>0.0</td>\n",
              "      <td>0.0</td>\n",
              "      <td>0</td>\n",
              "    </tr>\n",
              "    <tr>\n",
              "      <th>166352</th>\n",
              "      <td>1</td>\n",
              "      <td>0.0</td>\n",
              "      <td>-0.68907</td>\n",
              "      <td>0.0</td>\n",
              "      <td>0.0</td>\n",
              "      <td>0</td>\n",
              "    </tr>\n",
              "  </tbody>\n",
              "</table>\n",
              "<p>166353 rows × 6 columns</p>\n",
              "</div>\n",
              "      <button class=\"colab-df-convert\" onclick=\"convertToInteractive('df-c153d2de-9af7-4c27-a7d8-774ba5070905')\"\n",
              "              title=\"Convert this dataframe to an interactive table.\"\n",
              "              style=\"display:none;\">\n",
              "        \n",
              "  <svg xmlns=\"http://www.w3.org/2000/svg\" height=\"24px\"viewBox=\"0 0 24 24\"\n",
              "       width=\"24px\">\n",
              "    <path d=\"M0 0h24v24H0V0z\" fill=\"none\"/>\n",
              "    <path d=\"M18.56 5.44l.94 2.06.94-2.06 2.06-.94-2.06-.94-.94-2.06-.94 2.06-2.06.94zm-11 1L8.5 8.5l.94-2.06 2.06-.94-2.06-.94L8.5 2.5l-.94 2.06-2.06.94zm10 10l.94 2.06.94-2.06 2.06-.94-2.06-.94-.94-2.06-.94 2.06-2.06.94z\"/><path d=\"M17.41 7.96l-1.37-1.37c-.4-.4-.92-.59-1.43-.59-.52 0-1.04.2-1.43.59L10.3 9.45l-7.72 7.72c-.78.78-.78 2.05 0 2.83L4 21.41c.39.39.9.59 1.41.59.51 0 1.02-.2 1.41-.59l7.78-7.78 2.81-2.81c.8-.78.8-2.07 0-2.86zM5.41 20L4 18.59l7.72-7.72 1.47 1.35L5.41 20z\"/>\n",
              "  </svg>\n",
              "      </button>\n",
              "      \n",
              "  <style>\n",
              "    .colab-df-container {\n",
              "      display:flex;\n",
              "      flex-wrap:wrap;\n",
              "      gap: 12px;\n",
              "    }\n",
              "\n",
              "    .colab-df-convert {\n",
              "      background-color: #E8F0FE;\n",
              "      border: none;\n",
              "      border-radius: 50%;\n",
              "      cursor: pointer;\n",
              "      display: none;\n",
              "      fill: #1967D2;\n",
              "      height: 32px;\n",
              "      padding: 0 0 0 0;\n",
              "      width: 32px;\n",
              "    }\n",
              "\n",
              "    .colab-df-convert:hover {\n",
              "      background-color: #E2EBFA;\n",
              "      box-shadow: 0px 1px 2px rgba(60, 64, 67, 0.3), 0px 1px 3px 1px rgba(60, 64, 67, 0.15);\n",
              "      fill: #174EA6;\n",
              "    }\n",
              "\n",
              "    [theme=dark] .colab-df-convert {\n",
              "      background-color: #3B4455;\n",
              "      fill: #D2E3FC;\n",
              "    }\n",
              "\n",
              "    [theme=dark] .colab-df-convert:hover {\n",
              "      background-color: #434B5C;\n",
              "      box-shadow: 0px 1px 3px 1px rgba(0, 0, 0, 0.15);\n",
              "      filter: drop-shadow(0px 1px 2px rgba(0, 0, 0, 0.3));\n",
              "      fill: #FFFFFF;\n",
              "    }\n",
              "  </style>\n",
              "\n",
              "      <script>\n",
              "        const buttonEl =\n",
              "          document.querySelector('#df-c153d2de-9af7-4c27-a7d8-774ba5070905 button.colab-df-convert');\n",
              "        buttonEl.style.display =\n",
              "          google.colab.kernel.accessAllowed ? 'block' : 'none';\n",
              "\n",
              "        async function convertToInteractive(key) {\n",
              "          const element = document.querySelector('#df-c153d2de-9af7-4c27-a7d8-774ba5070905');\n",
              "          const dataTable =\n",
              "            await google.colab.kernel.invokeFunction('convertToInteractive',\n",
              "                                                     [key], {});\n",
              "          if (!dataTable) return;\n",
              "\n",
              "          const docLinkHtml = 'Like what you see? Visit the ' +\n",
              "            '<a target=\"_blank\" href=https://colab.research.google.com/notebooks/data_table.ipynb>data table notebook</a>'\n",
              "            + ' to learn more about interactive tables.';\n",
              "          element.innerHTML = '';\n",
              "          dataTable['output_type'] = 'display_data';\n",
              "          await google.colab.output.renderOutput(dataTable, element);\n",
              "          const docLink = document.createElement('div');\n",
              "          docLink.innerHTML = docLinkHtml;\n",
              "          element.appendChild(docLink);\n",
              "        }\n",
              "      </script>\n",
              "    </div>\n",
              "  </div>\n",
              "  "
            ],
            "text/plain": [
              "        Occupancy  Power Consumption  Normalized Power Consumption  \\\n",
              "0               1                0.0                      -0.68907   \n",
              "1               1                0.0                      -0.68907   \n",
              "2               0                0.0                      -0.68907   \n",
              "3               1                0.0                      -0.68907   \n",
              "4               0                0.0                      -0.68907   \n",
              "...           ...                ...                           ...   \n",
              "166348          1                0.0                      -0.68907   \n",
              "166349          0                0.0                      -0.68907   \n",
              "166350          0                0.0                      -0.68907   \n",
              "166351          1                0.0                      -0.68907   \n",
              "166352          1                0.0                      -0.68907   \n",
              "\n",
              "        P(t)-P(t+1)  P(t)-P(t-1)  Micro-Moment Class  \n",
              "0               0.0          0.0                   0  \n",
              "1               0.0          0.0                   0  \n",
              "2               0.0          0.0                   0  \n",
              "3               0.0          0.0                   0  \n",
              "4               0.0          0.0                   0  \n",
              "...             ...          ...                 ...  \n",
              "166348          0.0          0.0                   0  \n",
              "166349          0.0          0.0                   0  \n",
              "166350          0.0          0.0                   0  \n",
              "166351          0.0          0.0                   0  \n",
              "166352          0.0          0.0                   0  \n",
              "\n",
              "[166353 rows x 6 columns]"
            ]
          },
          "execution_count": 3,
          "metadata": {},
          "output_type": "execute_result"
        }
      ],
      "source": [
        "df_dred = pd.read_csv('/content/drive/MyDrive/Planification Projet Capstone/DRED.csv', header=None)\n",
        "df_dred.columns = ['Occupancy', 'Power Consumption', 'Normalized Power Consumption', 'P(t)-P(t+1)', 'P(t)-P(t-1)', 'Micro-Moment Class']\n",
        "df_dred"
      ]
    },
    {
      "cell_type": "code",
      "execution_count": 4,
      "metadata": {
        "id": "IXn_OpsMp2gD"
      },
      "outputs": [],
      "source": [
        "# Rajouter les colonnes timestep et compte\n",
        "n_rows = df_dred.shape[0]\n",
        "#df_dred['Timestep'] = [2]*n_rows\n",
        "#df_dred['Count'] = [i for i in range(n_rows)]\n",
        "df_dred.drop('Normalized Power Consumption', axis=1, inplace=True)\n",
        "#df_qud.drop('Normalized Power Consumption', axis=1, inplace=True)"
      ]
    },
    {
      "cell_type": "code",
      "execution_count": null,
      "metadata": {
        "id": "F2lsdR0TnWEU"
      },
      "outputs": [],
      "source": [
        "def sliding_window(dataset, timestep):\n",
        "    \n",
        "    dataset = dataset.to_numpy().astype(np.float32)\n",
        "    timesteps = []\n",
        "    \n",
        "    for i in range(dataset.shape[0]):\n",
        "        if i < dataset.shape[0] - timestep:\n",
        "            timesteps.append(dataset[i:i+timestep])\n",
        "\n",
        "    return timesteps"
      ]
    },
    {
      "cell_type": "code",
      "execution_count": null,
      "metadata": {
        "id": "D70yOHi0odkv"
      },
      "outputs": [],
      "source": [
        "#qud_timesteps = sliding_window(df_qud, 3)\n",
        "#dred_timesteps = sliding_window(df_dred, 3)\n",
        "#dred_timesteps[50]"
      ]
    },
    {
      "cell_type": "code",
      "execution_count": null,
      "metadata": {
        "colab": {
          "base_uri": "https://localhost:8080/",
          "height": 89
        },
        "id": "EiB0BcScokMp",
        "outputId": "4227626f-71b1-4937-8b05-f46a02e7bcbc"
      },
      "outputs": [
        {
          "data": {
            "application/vnd.google.colaboratory.intrinsic+json": {
              "type": "string"
            },
            "text/plain": [
              "'\\n# TODO: Cette fonction est plutôt lente et pourrait probablement être optimisée\\ndef calculate_covariance_from_timewindow(timesteps, col):\\n\\n    new_timesteps = np.ones((len(timesteps), timesteps[0].shape[0], timesteps[0].shape[1]+1))\\n\\n    for i, window in enumerate(timesteps):\\n        # Calcul de la covariance de la fenêtre\\n        mean = np.mean(window[:, col])\\n        max = np.max(window[:, col])\\n        min = np.min(window[:, col])\\n        std = np.std(window[:, col])\\n\\n        if mean > 0:\\n            covariance = ((max-min) / 100) * (std / mean) \\n        else:\\n            covariance = 0\\n\\n        # Création de la nouvelle fenêtre temporelle avec la covariance\\n        new_window = np.ones((timesteps[0].shape[0], timesteps[0].shape[1]+1))\\n\\n        for j, timestep in enumerate(window):\\n            new_timestep = new_window[j] * np.append(timestep, [1], axis=0)\\n            new_timestep[-1] = new_timestep[-1] * covariance\\n            new_window[j] = new_window[j] * new_timestep\\n\\n        new_timesteps[i] = new_timesteps[i] * new_window\\n    \\n    return new_timesteps'"
            ]
          },
          "execution_count": 10,
          "metadata": {},
          "output_type": "execute_result"
        }
      ],
      "source": [
        "'''\n",
        "# TODO: Cette fonction est plutôt lente et pourrait probablement être optimisée\n",
        "def calculate_covariance_from_timewindow(timesteps, col):\n",
        "\n",
        "    new_timesteps = np.ones((len(timesteps), timesteps[0].shape[0], timesteps[0].shape[1]+1))\n",
        "\n",
        "    for i, window in enumerate(timesteps):\n",
        "        # Calcul de la covariance de la fenêtre\n",
        "        mean = np.mean(window[:, col])\n",
        "        max = np.max(window[:, col])\n",
        "        min = np.min(window[:, col])\n",
        "        std = np.std(window[:, col])\n",
        "\n",
        "        if mean > 0:\n",
        "            covariance = ((max-min) / 100) * (std / mean) \n",
        "        else:\n",
        "            covariance = 0\n",
        "\n",
        "        # Création de la nouvelle fenêtre temporelle avec la covariance\n",
        "        new_window = np.ones((timesteps[0].shape[0], timesteps[0].shape[1]+1))\n",
        "\n",
        "        for j, timestep in enumerate(window):\n",
        "            new_timestep = new_window[j] * np.append(timestep, [1], axis=0)\n",
        "            new_timestep[-1] = new_timestep[-1] * covariance\n",
        "            new_window[j] = new_window[j] * new_timestep\n",
        "\n",
        "        new_timesteps[i] = new_timesteps[i] * new_window\n",
        "    \n",
        "    return new_timesteps'''"
      ]
    },
    {
      "cell_type": "code",
      "execution_count": null,
      "metadata": {
        "colab": {
          "base_uri": "https://localhost:8080/",
          "height": 35
        },
        "id": "ZetcUmVMLbyp",
        "outputId": "91bfff54-3bac-4569-939b-b90682a8d018"
      },
      "outputs": [
        {
          "data": {
            "application/vnd.google.colaboratory.intrinsic+json": {
              "type": "string"
            },
            "text/plain": [
              "'new_dred = calculate_covariance_from_timewindow(dred_timesteps, 1)\\nnew_dred = calculate_covariance_from_timewindow(new_dred, 2)\\nnew_dred = calculate_covariance_from_timewindow(new_dred, 3)'"
            ]
          },
          "execution_count": 12,
          "metadata": {},
          "output_type": "execute_result"
        }
      ],
      "source": [
        "#new_qud = calculate_covariance_from_timewindow(qud_timesteps, [1])\n",
        "'''new_dred = calculate_covariance_from_timewindow(dred_timesteps, 1)\n",
        "new_dred = calculate_covariance_from_timewindow(new_dred, 2)\n",
        "new_dred = calculate_covariance_from_timewindow(new_dred, 3)'''"
      ]
    },
    {
      "cell_type": "code",
      "execution_count": 5,
      "metadata": {
        "id": "SZsIOKAOJk9v"
      },
      "outputs": [],
      "source": [
        "class StatefulScaler():\n",
        "    def __init__(self, epsilon, initial_mean = 0): # e.g. epsilons: {1: 0.1, 2: 0.9}\n",
        "        self.epsilon = epsilon\n",
        "        self.stateful_mean = initial_mean\n",
        "        self.data_mean = initial_mean\n",
        "\n",
        "    def normalize(self, fenetre, update_mean = True):\n",
        "\n",
        "        if update_mean:\n",
        "            self.stateful_mean = (1-self.epsilon) * self.stateful_mean + (self.data_mean * self.epsilon)\n",
        "        \n",
        "        factor = (self.stateful_mean-self.data_mean) / (self.data_mean + 1e-7)\n",
        "        fenetre_norm = (fenetre - fenetre.min()) / ((fenetre.max() - fenetre.min()) + 1e-7) # Ajouter 1e-7 a la moyenne pour éviter la division par 0\n",
        "        fenetre_norm = fenetre_norm * factor\n",
        "        \n",
        "        return fenetre_norm\n",
        "\n",
        "    def normalize_window(self, window):\n",
        "        fenetre_norm = np.asarray([self.normalize(window[i]) for i in range(window.shape[0])]).astype(np.float32)\n",
        "        return fenetre_norm\n",
        "\n",
        "    def reset_stateful_mean(self):\n",
        "        self.stateful_mean = self.data_mean\n"
      ]
    },
    {
      "cell_type": "code",
      "execution_count": 6,
      "metadata": {
        "id": "EDIFlRdvGSMp"
      },
      "outputs": [],
      "source": [
        "class Generateur(tf.keras.utils.Sequence):\n",
        "\n",
        "    def __init__(self, dataset, batch_size=8, window_size=3):\n",
        "\n",
        "        self.X , self.y = dataset.drop('Micro-Moment Class', axis=1).to_numpy().astype(np.float32), np.asarray(tf.one_hot(dataset['Micro-Moment Class'], depth=5)).astype(np.float32)\n",
        "        \n",
        "        self.batch_size = batch_size\n",
        "        self.window_size = window_size\n",
        "\n",
        "        self.t_scaler = StatefulScaler(0.75, np.mean(self.X[:, 1]))\n",
        "        self.t_fwd_scaler = StatefulScaler(0.9, np.mean(abs(self.X[:, 2])))\n",
        "        self.t_back_scaler = StatefulScaler(0.9, np.mean(abs(self.X[:, 3])))\n",
        "        \n",
        "    def on_epoch_end(self):\n",
        "        # Reset Stateful mean to dataset mean\n",
        "        self.t_scaler.reset_stateful_mean()\n",
        "        self.t_fwd_scaler.reset_stateful_mean()\n",
        "        self.t_back_scaler.reset_stateful_mean()\n",
        "        \n",
        "    def __len__(self):\n",
        "        return (self.X.shape[0] - self.window_size + 1) // self.batch_size\n",
        "\n",
        "    def __getitem__(self, idx):\n",
        "\n",
        "        batch_x = self.X[ (idx * self.batch_size) : (idx + 1) * self.batch_size + self.window_size - 1, : ]\n",
        "        batch_y = self.y[ (idx * self.batch_size) : (idx + 1) * self.batch_size + self.window_size - 1, : ]\n",
        "\n",
        "        batch_x, batch_y = self.slide_window([batch_x, batch_y])\n",
        "        \n",
        "        # Normalisation de P(t), P(t) - P(t-1) et P(t) - P(t+1)\n",
        "        for i in range(self.batch_size):\n",
        "            batch_x[:, :, 1] = self.t_scaler.normalize(batch_x[i, :, 1])\n",
        "            batch_x[:, :, 2] = self.t_fwd_scaler.normalize(batch_x[i, :, 2])\n",
        "            batch_x[:, :, 3] = self.t_back_scaler.normalize(batch_x[i, :, 3])\n",
        "\n",
        "        return np.asarray(batch_x).astype(np.float32) , np.asarray(batch_y).astype(np.float32)\n",
        "\n",
        "    def slide_window(self, batch, timestep=3):\n",
        "\n",
        "        batch_x, batch_y = batch\n",
        "\n",
        "        X, y = [], []\n",
        "        \n",
        "        for i in range(batch_x.shape[0]):\n",
        "            if i <= batch_x.shape[0] - timestep:\n",
        "                y.append(batch_y[i+(timestep // 2) , :])\n",
        "                X.append(batch_x[i:i+timestep, :])\n",
        "\n",
        "        return np.asarray(X).astype(np.float32), np.asarray(y).astype(np.float32)"
      ]
    },
    {
      "cell_type": "code",
      "execution_count": 14,
      "metadata": {
        "colab": {
          "base_uri": "https://localhost:8080/"
        },
        "id": "AkpW7xd-8lhU",
        "outputId": "620b0f8a-08ce-4d54-f891-55482e435646"
      },
      "outputs": [
        {
          "name": "stdout",
          "output_type": "stream",
          "text": [
            "Model: \"model_1\"\n",
            "_________________________________________________________________\n",
            " Layer (type)                Output Shape              Param #   \n",
            "=================================================================\n",
            " input_2 (InputLayer)        [(None, 3, 4)]            0         \n",
            "                                                                 \n",
            " dense_3 (Dense)             (None, 3, 128)            640       \n",
            "                                                                 \n",
            " lstm_1 (LSTM)               (None, 256)               394240    \n",
            "                                                                 \n",
            " dense_4 (Dense)             (None, 128)               32896     \n",
            "                                                                 \n",
            " dense_5 (Dense)             (None, 5)                 645       \n",
            "                                                                 \n",
            "=================================================================\n",
            "Total params: 428,421\n",
            "Trainable params: 428,421\n",
            "Non-trainable params: 0\n",
            "_________________________________________________________________\n"
          ]
        }
      ],
      "source": [
        "# Modele\n",
        "input = tf.keras.Input(shape=(3, 4))\n",
        "\n",
        "output = tf.keras.layers.Dense(128, activation='relu')(input)\n",
        "output = tf.keras.layers.LSTM(256)(output)\n",
        "output = tf.keras.layers.Dense(128, activation='relu')(output)\n",
        "\n",
        "output = tf.keras.layers.Dense(5, activation='softmax')(output)\n",
        "\n",
        "model = tf.keras.Model(inputs=input, outputs = output)\n",
        "\n",
        "model.summary()"
      ]
    },
    {
      "cell_type": "code",
      "execution_count": 15,
      "metadata": {
        "colab": {
          "base_uri": "https://localhost:8080/"
        },
        "id": "8DhYwWKsrb9S",
        "outputId": "a52a6b0a-88d0-4e6e-8683-eeaad222a5ad"
      },
      "outputs": [
        {
          "name": "stdout",
          "output_type": "stream",
          "text": [
            "   Occupancy  Power Consumption  P(t)-P(t+1)  P(t)-P(t-1)  Micro-Moment Class\n",
            "0          1                0.0          0.0          0.0                   0\n",
            "1          1                0.0          0.0          0.0                   0\n",
            "2          0                0.0          0.0          0.0                   0\n",
            "3          1                0.0          0.0          0.0                   0\n",
            "4          0                0.0          0.0          0.0                   0\n"
          ]
        }
      ],
      "source": [
        "#df_dred = df_dred[:1000]\n",
        "\n",
        "dred_train = df_dred[:int(df_dred.shape[0]*0.8)]\n",
        "dred_test = df_dred[int(df_dred.shape[0]*0.8):]\n",
        "\n",
        "print(dred_train.head())"
      ]
    },
    {
      "cell_type": "code",
      "execution_count": null,
      "metadata": {
        "id": "YOP2zT_rrctr"
      },
      "outputs": [],
      "source": [
        "df_qud = df_qud[:1000]\n",
        "qud_train = df_qud[:int(df_qud.shape[0]*0.8)].reset_index()\n",
        "qud_test = df_qud[int(df_qud.shape[0]*0.8):].reset_index()"
      ]
    },
    {
      "cell_type": "code",
      "execution_count": 16,
      "metadata": {
        "id": "j6IKFFtpIKEn"
      },
      "outputs": [],
      "source": [
        "model.compile(\n",
        "    optimizer = tf.keras.optimizers.Adam(learning_rate=1e-3),\n",
        "    loss = \"categorical_crossentropy\",\n",
        "    metrics = [get_f1, 'accuracy']\n",
        ")"
      ]
    },
    {
      "cell_type": "code",
      "execution_count": 17,
      "metadata": {
        "colab": {
          "base_uri": "https://localhost:8080/"
        },
        "id": "ygGYxBCWtIi-",
        "outputId": "b4867289-48b4-48b7-89a0-af7075da402c"
      },
      "outputs": [
        {
          "name": "stdout",
          "output_type": "stream",
          "text": [
            "(array([[[1., 0., 0., 0.],\n",
            "        [1., 0., 0., 0.],\n",
            "        [0., 0., 0., 0.]],\n",
            "\n",
            "       [[1., 0., 0., 0.],\n",
            "        [0., 0., 0., 0.],\n",
            "        [1., 0., 0., 0.]],\n",
            "\n",
            "       [[0., 0., 0., 0.],\n",
            "        [1., 0., 0., 0.],\n",
            "        [0., 0., 0., 0.]],\n",
            "\n",
            "       ...,\n",
            "\n",
            "       [[0., 0., 0., 0.],\n",
            "        [0., 0., 0., 0.],\n",
            "        [0., 0., 0., 0.]],\n",
            "\n",
            "       [[0., 0., 0., 0.],\n",
            "        [0., 0., 0., 0.],\n",
            "        [0., 0., 0., 0.]],\n",
            "\n",
            "       [[0., 0., 0., 0.],\n",
            "        [0., 0., 0., 0.],\n",
            "        [1., 0., 0., 0.]]], dtype=float32), array([[1., 0., 0., 0., 0.],\n",
            "       [1., 0., 0., 0., 0.],\n",
            "       [1., 0., 0., 0., 0.],\n",
            "       ...,\n",
            "       [0., 0., 0., 0., 1.],\n",
            "       [0., 0., 0., 0., 1.],\n",
            "       [0., 0., 0., 0., 1.]], dtype=float32))\n",
            "Epoch 1/10\n",
            "519/519 [==============================] - 86s 56ms/step - loss: 0.6304 - get_f1: 0.6950 - accuracy: 0.7357 - val_loss: 0.5434 - val_get_f1: 0.7714 - val_accuracy: 0.7714\n",
            "Epoch 2/10\n",
            "519/519 [==============================] - 27s 53ms/step - loss: 0.5458 - get_f1: 0.7563 - accuracy: 0.7621 - val_loss: 0.5500 - val_get_f1: 0.7714 - val_accuracy: 0.7714\n",
            "Epoch 3/10\n",
            "519/519 [==============================] - 30s 57ms/step - loss: 0.5471 - get_f1: 0.7652 - accuracy: 0.7686 - val_loss: 0.5485 - val_get_f1: 0.7714 - val_accuracy: 0.7714\n",
            "Epoch 4/10\n",
            "519/519 [==============================] - 35s 68ms/step - loss: 0.5505 - get_f1: 0.7568 - accuracy: 0.7649 - val_loss: 0.5447 - val_get_f1: 0.7714 - val_accuracy: 0.7714\n",
            "Epoch 5/10\n",
            "519/519 [==============================] - 27s 53ms/step - loss: 0.5501 - get_f1: 0.7714 - accuracy: 0.7714 - val_loss: 0.5414 - val_get_f1: 0.7714 - val_accuracy: 0.7714\n",
            "Epoch 6/10\n",
            "519/519 [==============================] - 27s 53ms/step - loss: 0.5465 - get_f1: 0.7714 - accuracy: 0.7714 - val_loss: 0.5428 - val_get_f1: 0.7714 - val_accuracy: 0.7714\n",
            "Epoch 7/10\n",
            "519/519 [==============================] - 35s 68ms/step - loss: 0.5468 - get_f1: 0.7714 - accuracy: 0.7714 - val_loss: 0.5418 - val_get_f1: 0.7714 - val_accuracy: 0.7714\n",
            "Epoch 8/10\n",
            "519/519 [==============================] - 35s 68ms/step - loss: 0.5445 - get_f1: 0.7714 - accuracy: 0.7714 - val_loss: 0.5429 - val_get_f1: 0.7714 - val_accuracy: 0.7714\n",
            "Epoch 9/10\n",
            "519/519 [==============================] - 28s 54ms/step - loss: 0.5441 - get_f1: 0.7665 - accuracy: 0.7690 - val_loss: 0.5540 - val_get_f1: 0.7714 - val_accuracy: 0.7714\n",
            "Epoch 10/10\n",
            "519/519 [==============================] - 27s 52ms/step - loss: 0.5456 - get_f1: 0.7714 - accuracy: 0.7714 - val_loss: 0.5413 - val_get_f1: 0.7714 - val_accuracy: 0.7714\n"
          ]
        }
      ],
      "source": [
        "# DRED\n",
        "\n",
        "generateur_train = Generateur(dred_train, window_size=3, batch_size=256)\n",
        "generateur_test = Generateur(dred_train, window_size=3, batch_size=256)\n",
        "\n",
        "print(generateur_train[0])\n",
        "dred_hist = model.fit(\n",
        "    x = generateur_train,\n",
        "    epochs=10,\n",
        "    validation_data = generateur_test\n",
        ")"
      ]
    },
    {
      "cell_type": "code",
      "execution_count": 18,
      "metadata": {
        "id": "qRXA_FGQMM4u"
      },
      "outputs": [],
      "source": [
        "tf.keras.models.save_model(model, '/content/drive/MyDrive/Planification Projet Capstone/baseline_model.h5')"
      ]
    },
    {
      "cell_type": "code",
      "execution_count": null,
      "metadata": {
        "id": "k61-5rxvtKwK"
      },
      "outputs": [],
      "source": [
        "# QUD\n",
        "qud_hist = model.fit(\n",
        "    x = Generateur(qud_train, window_size=3),\n",
        "    epochs=100,\n",
        "    validation_data = Generateur(qud_test, window_size=3)\n",
        ")"
      ]
    },
    {
      "cell_type": "code",
      "execution_count": 10,
      "metadata": {
        "id": "qgqIF_ONj2Ug"
      },
      "outputs": [],
      "source": [
        "from keras.callbacks import Callback,ModelCheckpoint\n",
        "from keras.models import Sequential,load_model\n",
        "from keras.layers import Dense, Dropout\n",
        "from keras.wrappers.scikit_learn import KerasClassifier\n",
        "import keras.backend as K\n",
        "\n",
        "def get_f1(y_true, y_pred): #taken from old keras source code\n",
        "    true_positives = K.sum(K.round(K.clip(y_true * y_pred, 0, 1)))\n",
        "    possible_positives = K.sum(K.round(K.clip(y_true, 0, 1)))\n",
        "    predicted_positives = K.sum(K.round(K.clip(y_pred, 0, 1)))\n",
        "    precision = true_positives / (predicted_positives + K.epsilon())\n",
        "    recall = true_positives / (possible_positives + K.epsilon())\n",
        "    f1_val = 2*(precision*recall)/(precision+recall+K.epsilon())\n",
        "    return f1_val"
      ]
    },
    {
      "cell_type": "code",
      "execution_count": null,
      "metadata": {
        "colab": {
          "base_uri": "https://localhost:8080/"
        },
        "id": "oXp-ukG-qGZo",
        "outputId": "62d990b4-ade8-4a52-bf7a-9b5daf07a324"
      },
      "outputs": [
        {
          "data": {
            "text/plain": [
              "0.9079861044883728"
            ]
          },
          "execution_count": 72,
          "metadata": {},
          "output_type": "execute_result"
        }
      ],
      "source": [
        "np.max(hist.history['val_get_f1'])"
      ]
    },
    {
      "cell_type": "code",
      "execution_count": null,
      "metadata": {
        "colab": {
          "base_uri": "https://localhost:8080/"
        },
        "id": "n-b6AMd0qICG",
        "outputId": "92215f7d-43e7-4253-9a86-bd4752068576"
      },
      "outputs": [
        {
          "data": {
            "text/plain": [
              "0.5801874995231628"
            ]
          },
          "execution_count": 19,
          "metadata": {},
          "output_type": "execute_result"
        }
      ],
      "source": [
        "np.max(qud_hist.history['val_get_f1'])"
      ]
    }
  ],
  "metadata": {
    "accelerator": "GPU",
    "colab": {
      "gpuType": "T4",
      "provenance": []
    },
    "kernelspec": {
      "display_name": "Python 3",
      "name": "python3"
    },
    "language_info": {
      "name": "python"
    }
  },
  "nbformat": 4,
  "nbformat_minor": 0
}
